{
 "cells": [
  {
   "cell_type": "code",
   "execution_count": 1,
   "id": "bde1e412",
   "metadata": {},
   "outputs": [],
   "source": [
    "import pandas as pd\n",
    "import numpy as np\n",
    "import matplotlib.pyplot as plt"
   ]
  },
  {
   "cell_type": "code",
   "execution_count": 2,
   "id": "7ea5367c",
   "metadata": {},
   "outputs": [],
   "source": [
    "df = pd.read_csv(\"B_YTé - Store Dataset 2023.csv\")"
   ]
  },
  {
   "cell_type": "code",
   "execution_count": 3,
   "id": "78abf9e5",
   "metadata": {},
   "outputs": [],
   "source": [
    "quarter_map = [\"Q1\",\"Q1\",\"Q1\",\"Q2\",\"Q2\",\"Q2\",\"Q3\",\"Q3\",\"Q3\",\"Q4\",\"Q4\",\"Q4\"]\n",
    "#               Jan, Feb, Mar, April....\n",
    "def date_to_quarter(date: str) -> str:\n",
    "  date_split = [int(x) for x in date.split(\"/\")]\n",
    "  day = date_split[0]\n",
    "  month = date_split[1]\n",
    "  year = date_split[2]\n",
    "  quarter_name = quarter_map[month - 1]\n",
    "  return \"{0}, {1}\".format(quarter_name, year)"
   ]
  },
  {
   "cell_type": "code",
   "execution_count": 4,
   "id": "d42a4c47",
   "metadata": {},
   "outputs": [
    {
     "data": {
      "text/plain": [
       "0        Q1, 2022\n",
       "1        Q1, 2022\n",
       "2        Q1, 2022\n",
       "3        Q1, 2022\n",
       "4        Q1, 2022\n",
       "           ...   \n",
       "61858    Q3, 2022\n",
       "61859    Q3, 2022\n",
       "61860    Q3, 2022\n",
       "61861    Q3, 2022\n",
       "61862    Q3, 2022\n",
       "Name: Date, Length: 61863, dtype: object"
      ]
     },
     "execution_count": 4,
     "metadata": {},
     "output_type": "execute_result"
    }
   ],
   "source": [
    "df['Date'].apply(date_to_quarter)"
   ]
  },
  {
   "cell_type": "code",
   "execution_count": 5,
   "id": "d1737340",
   "metadata": {},
   "outputs": [],
   "source": [
    "df['Quarter'] = df['Date'].apply(date_to_quarter)"
   ]
  },
  {
   "cell_type": "code",
   "execution_count": 6,
   "id": "e2bcf916",
   "metadata": {},
   "outputs": [],
   "source": [
    "df_revised = df.drop(columns=['Unnamed: 0', 'Customer_ID', 'Transaction_ID'])"
   ]
  },
  {
   "cell_type": "code",
   "execution_count": 13,
   "id": "868f7818",
   "metadata": {},
   "outputs": [],
   "source": [
    "df_revised['Profit'] = df_revised['Sales_Amount'] - df_revised['Operational_Cost']"
   ]
  },
  {
   "cell_type": "code",
   "execution_count": 90,
   "id": "5bc6c60a",
   "metadata": {
    "scrolled": true
   },
   "outputs": [
    {
     "data": {
      "text/plain": [
       "SKU\n",
       "UNJKW    2007\n",
       "COWU2     791\n",
       "OV1P9     737\n",
       "M6J9W     698\n",
       "CZUZX     621\n",
       "         ... \n",
       "TJ7ZU       1\n",
       "B3LVW       1\n",
       "B0EF6       1\n",
       "B09IU       1\n",
       "ZZNC5       1\n",
       "Length: 1433, dtype: int64"
      ]
     },
     "execution_count": 90,
     "metadata": {},
     "output_type": "execute_result"
    }
   ],
   "source": [
    "df_revised.groupby('SKU').size().sort_values(ascending=False)"
   ]
  },
  {
   "cell_type": "code",
   "execution_count": 75,
   "id": "5bfa5f54",
   "metadata": {},
   "outputs": [
    {
     "data": {
      "text/plain": [
       "SKU_Category\n",
       "T-shirt          10913\n",
       "Hoodie            5099\n",
       "Dresses           5062\n",
       "Cargo pants       4836\n",
       "Shorts            4570\n",
       "                 ...  \n",
       "Crop Top          2858\n",
       "Sunglasses        2833\n",
       "Dress shirt       2775\n",
       "Bomber jacket     2598\n",
       "Trench coat       2306\n",
       "Length: 15, dtype: int64"
      ]
     },
     "execution_count": 75,
     "metadata": {},
     "output_type": "execute_result"
    }
   ],
   "source": [
    "df_revised.groupby('SKU_Category').size().sort_values(ascending=False)"
   ]
  },
  {
   "cell_type": "code",
   "execution_count": 18,
   "id": "306d75f0",
   "metadata": {},
   "outputs": [],
   "source": [
    "demographic_list = [\"GenZ\", 'Millenial', 'GenX', 'GenJones']\n",
    "# 11-26, 27-42, 43-58, 59-68\n",
    "def age_to_dg(age: int) -> str:\n",
    "    if age <= 26:\n",
    "        return 'GenZ'\n",
    "    elif age <= 42:\n",
    "        return 'Millenial'\n",
    "    elif age <= 58:\n",
    "        return 'GenX'\n",
    "    elif age <= 68:\n",
    "        return \"GenJones\""
   ]
  },
  {
   "cell_type": "code",
   "execution_count": 71,
   "id": "3fabd47e",
   "metadata": {},
   "outputs": [
    {
     "name": "stdout",
     "output_type": "stream",
     "text": [
      "16\n",
      "68\n"
     ]
    }
   ],
   "source": [
    "min_value = df_revised['Customer_Age'].min()\n",
    "max_value = df_revised['Customer_Age'].max()\n",
    "print(min_value)\n",
    "print(max_value)"
   ]
  },
  {
   "cell_type": "code",
   "execution_count": 19,
   "id": "bf78e348",
   "metadata": {},
   "outputs": [
    {
     "name": "stderr",
     "output_type": "stream",
     "text": [
      "C:\\Users\\thoma\\AppData\\Local\\Temp\\ipykernel_25576\\1853127401.py:1: SettingWithCopyWarning: \n",
      "A value is trying to be set on a copy of a slice from a DataFrame.\n",
      "Try using .loc[row_indexer,col_indexer] = value instead\n",
      "\n",
      "See the caveats in the documentation: https://pandas.pydata.org/pandas-docs/stable/user_guide/indexing.html#returning-a-view-versus-a-copy\n",
      "  df_revised['Demographic'] = df_revised['Customer_Age'].apply(age_to_dg)\n"
     ]
    }
   ],
   "source": [
    "df_revised['Demographic'] = df_revised['Customer_Age'].apply(age_to_dg)"
   ]
  },
  {
   "cell_type": "code",
   "execution_count": 73,
   "id": "555865ea",
   "metadata": {},
   "outputs": [
    {
     "data": {
      "text/plain": [
       "array(['Skirt', 'Shoes', 'T-shirt', 'Cargo pants', 'Crop Top', 'Jeans',\n",
       "       'Hoodie', 'Sunglasses', 'Blazer', 'Dress shirt', 'Bomber jacket',\n",
       "       'Trench coat', 'Dresses', 'Hat', 'Shorts'], dtype=object)"
      ]
     },
     "execution_count": 73,
     "metadata": {},
     "output_type": "execute_result"
    }
   ],
   "source": [
    "df_revised['SKU_Category'].unique()"
   ]
  },
  {
   "cell_type": "code",
   "execution_count": 10,
   "id": "f7a867ef",
   "metadata": {},
   "outputs": [],
   "source": [
    "df_revised = df.drop(columns=['Unnamed: 0', 'Customer_ID', 'Transaction_ID', 'Date'])"
   ]
  },
  {
   "cell_type": "code",
   "execution_count": 101,
   "id": "5ed425c8",
   "metadata": {},
   "outputs": [],
   "source": [
    "item_quantity = df_revised.groupby('SKU')['Quantity'].sum()"
   ]
  },
  {
   "cell_type": "code",
   "execution_count": 102,
   "id": "6f666583",
   "metadata": {},
   "outputs": [
    {
     "data": {
      "text/plain": [
       "SKU\n",
       "UNJKW    2179.0\n",
       "2SVKS    1113.0\n",
       "SJ0ZD     969.0\n",
       "4FT32     916.0\n",
       "A59HR     912.0\n",
       "          ...  \n",
       "TUXIK       1.0\n",
       "TXSTI       1.0\n",
       "9CRJL       1.0\n",
       "ZZNC5       1.0\n",
       "U5KIY       0.6\n",
       "Name: Quantity, Length: 1433, dtype: float64"
      ]
     },
     "execution_count": 102,
     "metadata": {},
     "output_type": "execute_result"
    }
   ],
   "source": [
    "item_quantity.sort_values(ascending=False)"
   ]
  },
  {
   "cell_type": "code",
   "execution_count": 105,
   "id": "2584579d",
   "metadata": {},
   "outputs": [],
   "source": [
    "demograph_quantity = df_revised.groupby('Demographic')['Quantity'].sum()"
   ]
  },
  {
   "cell_type": "code",
   "execution_count": 106,
   "id": "6dfa72bc",
   "metadata": {},
   "outputs": [
    {
     "data": {
      "text/plain": [
       "Demographic\n",
       "Millenial    34258.777\n",
       "GenX         33526.366\n",
       "GenZ          9253.340\n",
       "GenJones      4335.670\n",
       "Name: Quantity, dtype: float64"
      ]
     },
     "execution_count": 106,
     "metadata": {},
     "output_type": "execute_result"
    }
   ],
   "source": [
    "demograph_quantity.sort_values(ascending=False)"
   ]
  },
  {
   "cell_type": "code",
   "execution_count": 107,
   "id": "c84e5069",
   "metadata": {},
   "outputs": [],
   "source": [
    "demograph_profit = df_revised.groupby('Demographic')['Profit'].sum()"
   ]
  },
  {
   "cell_type": "code",
   "execution_count": 108,
   "id": "6b839f6d",
   "metadata": {},
   "outputs": [
    {
     "data": {
      "text/plain": [
       "Demographic\n",
       "Millenial    973448.4\n",
       "GenX         936499.6\n",
       "GenZ         259966.9\n",
       "GenJones     114719.3\n",
       "Name: Profit, dtype: float64"
      ]
     },
     "execution_count": 108,
     "metadata": {},
     "output_type": "execute_result"
    }
   ],
   "source": [
    "demograph_profit.sort_values(ascending=False)"
   ]
  },
  {
   "cell_type": "code",
   "execution_count": 109,
   "id": "9167aeb0",
   "metadata": {},
   "outputs": [],
   "source": [
    "quarterly_profit = df_revised.groupby('Quarter')['Profit'].sum()"
   ]
  },
  {
   "cell_type": "code",
   "execution_count": 110,
   "id": "af462f12",
   "metadata": {},
   "outputs": [
    {
     "data": {
      "text/plain": [
       "Quarter\n",
       "Q4, 2022    617813.8\n",
       "Q2, 2022    591812.1\n",
       "Q1, 2022    537742.0\n",
       "Q3, 2022    537266.3\n",
       "Name: Profit, dtype: float64"
      ]
     },
     "execution_count": 110,
     "metadata": {},
     "output_type": "execute_result"
    }
   ],
   "source": [
    "quarterly_profit.sort_values(ascending=False)"
   ]
  },
  {
   "cell_type": "code",
   "execution_count": 111,
   "id": "45a53533",
   "metadata": {},
   "outputs": [],
   "source": [
    "quarterly_sales = df_revised.groupby('Quarter')['Quantity'].sum()"
   ]
  },
  {
   "cell_type": "code",
   "execution_count": 112,
   "id": "c31f4bfb",
   "metadata": {},
   "outputs": [
    {
     "data": {
      "text/plain": [
       "Quarter\n",
       "Q4, 2022    22260.180\n",
       "Q2, 2022    20485.343\n",
       "Q1, 2022    19765.290\n",
       "Q3, 2022    18863.340\n",
       "Name: Quantity, dtype: float64"
      ]
     },
     "execution_count": 112,
     "metadata": {},
     "output_type": "execute_result"
    }
   ],
   "source": [
    "quarterly_sales.sort_values(ascending=False)"
   ]
  },
  {
   "cell_type": "code",
   "execution_count": 113,
   "id": "68037bad",
   "metadata": {},
   "outputs": [],
   "source": [
    "profit_by_category = df_revised.groupby('SKU_Category')['Profit'].sum()"
   ]
  },
  {
   "cell_type": "code",
   "execution_count": 114,
   "id": "acad3a9a",
   "metadata": {},
   "outputs": [
    {
     "data": {
      "text/plain": [
       "SKU_Category\n",
       "Dresses          387182.0\n",
       "Hat              212108.0\n",
       "T-shirt          185969.2\n",
       "Sunglasses       173108.2\n",
       "Bomber jacket    169756.0\n",
       "                   ...   \n",
       "Cargo pants      113060.2\n",
       "Blazer            95998.3\n",
       "Skirt             86803.9\n",
       "Crop Top          86446.3\n",
       "Jeans             84063.9\n",
       "Name: Profit, Length: 15, dtype: float64"
      ]
     },
     "execution_count": 114,
     "metadata": {},
     "output_type": "execute_result"
    }
   ],
   "source": [
    "profit_by_category.sort_values(ascending=False)"
   ]
  },
  {
   "cell_type": "code",
   "execution_count": 11,
   "id": "4aebe6a3",
   "metadata": {},
   "outputs": [],
   "source": [
    "df_revised1 = df_revised"
   ]
  },
  {
   "cell_type": "code",
   "execution_count": 14,
   "id": "4bffa0c3",
   "metadata": {},
   "outputs": [],
   "source": [
    "df_revised1 = df_revised1[df_revised1['Profit'] >= 0]"
   ]
  },
  {
   "cell_type": "code",
   "execution_count": 15,
   "id": "00dfc176",
   "metadata": {},
   "outputs": [],
   "source": [
    "df_revised = df_revised1"
   ]
  },
  {
   "cell_type": "code",
   "execution_count": 16,
   "id": "38eb111a",
   "metadata": {},
   "outputs": [
    {
     "data": {
      "text/html": [
       "<div>\n",
       "<style scoped>\n",
       "    .dataframe tbody tr th:only-of-type {\n",
       "        vertical-align: middle;\n",
       "    }\n",
       "\n",
       "    .dataframe tbody tr th {\n",
       "        vertical-align: top;\n",
       "    }\n",
       "\n",
       "    .dataframe thead th {\n",
       "        text-align: right;\n",
       "    }\n",
       "</style>\n",
       "<table border=\"1\" class=\"dataframe\">\n",
       "  <thead>\n",
       "    <tr style=\"text-align: right;\">\n",
       "      <th></th>\n",
       "      <th>SKU_Category</th>\n",
       "      <th>SKU</th>\n",
       "      <th>Quantity</th>\n",
       "      <th>Sales_Amount</th>\n",
       "      <th>Operational_Cost</th>\n",
       "      <th>Customer_Age</th>\n",
       "      <th>Quarter</th>\n",
       "      <th>Profit</th>\n",
       "    </tr>\n",
       "  </thead>\n",
       "  <tbody>\n",
       "    <tr>\n",
       "      <th>0</th>\n",
       "      <td>Skirt</td>\n",
       "      <td>CZUZX</td>\n",
       "      <td>1.0</td>\n",
       "      <td>63.5</td>\n",
       "      <td>44.6</td>\n",
       "      <td>51</td>\n",
       "      <td>Q1, 2022</td>\n",
       "      <td>18.9</td>\n",
       "    </tr>\n",
       "    <tr>\n",
       "      <th>1</th>\n",
       "      <td>Skirt</td>\n",
       "      <td>549KK</td>\n",
       "      <td>1.0</td>\n",
       "      <td>55.9</td>\n",
       "      <td>41.1</td>\n",
       "      <td>27</td>\n",
       "      <td>Q1, 2022</td>\n",
       "      <td>14.8</td>\n",
       "    </tr>\n",
       "    <tr>\n",
       "      <th>2</th>\n",
       "      <td>Skirt</td>\n",
       "      <td>K8EHH</td>\n",
       "      <td>1.0</td>\n",
       "      <td>68.8</td>\n",
       "      <td>52.6</td>\n",
       "      <td>39</td>\n",
       "      <td>Q1, 2022</td>\n",
       "      <td>16.2</td>\n",
       "    </tr>\n",
       "    <tr>\n",
       "      <th>3</th>\n",
       "      <td>Shoes</td>\n",
       "      <td>AHZNS</td>\n",
       "      <td>1.0</td>\n",
       "      <td>82.1</td>\n",
       "      <td>56.7</td>\n",
       "      <td>39</td>\n",
       "      <td>Q1, 2022</td>\n",
       "      <td>25.4</td>\n",
       "    </tr>\n",
       "    <tr>\n",
       "      <th>4</th>\n",
       "      <td>Skirt</td>\n",
       "      <td>9STQJ</td>\n",
       "      <td>1.0</td>\n",
       "      <td>82.5</td>\n",
       "      <td>58.7</td>\n",
       "      <td>30</td>\n",
       "      <td>Q1, 2022</td>\n",
       "      <td>23.8</td>\n",
       "    </tr>\n",
       "    <tr>\n",
       "      <th>...</th>\n",
       "      <td>...</td>\n",
       "      <td>...</td>\n",
       "      <td>...</td>\n",
       "      <td>...</td>\n",
       "      <td>...</td>\n",
       "      <td>...</td>\n",
       "      <td>...</td>\n",
       "      <td>...</td>\n",
       "    </tr>\n",
       "    <tr>\n",
       "      <th>61858</th>\n",
       "      <td>Hat</td>\n",
       "      <td>FO112</td>\n",
       "      <td>3.0</td>\n",
       "      <td>64.6</td>\n",
       "      <td>16.4</td>\n",
       "      <td>24</td>\n",
       "      <td>Q3, 2022</td>\n",
       "      <td>48.2</td>\n",
       "    </tr>\n",
       "    <tr>\n",
       "      <th>61859</th>\n",
       "      <td>T-shirt</td>\n",
       "      <td>I36F2</td>\n",
       "      <td>1.0</td>\n",
       "      <td>45.0</td>\n",
       "      <td>32.5</td>\n",
       "      <td>24</td>\n",
       "      <td>Q3, 2022</td>\n",
       "      <td>12.5</td>\n",
       "    </tr>\n",
       "    <tr>\n",
       "      <th>61860</th>\n",
       "      <td>Shorts</td>\n",
       "      <td>4X8P4</td>\n",
       "      <td>1.0</td>\n",
       "      <td>51.9</td>\n",
       "      <td>39.2</td>\n",
       "      <td>24</td>\n",
       "      <td>Q3, 2022</td>\n",
       "      <td>12.7</td>\n",
       "    </tr>\n",
       "    <tr>\n",
       "      <th>61861</th>\n",
       "      <td>Skirt</td>\n",
       "      <td>ZVTO4</td>\n",
       "      <td>1.0</td>\n",
       "      <td>45.7</td>\n",
       "      <td>35.9</td>\n",
       "      <td>24</td>\n",
       "      <td>Q3, 2022</td>\n",
       "      <td>9.8</td>\n",
       "    </tr>\n",
       "    <tr>\n",
       "      <th>61862</th>\n",
       "      <td>Crop Top</td>\n",
       "      <td>QM9BP</td>\n",
       "      <td>1.0</td>\n",
       "      <td>136.8</td>\n",
       "      <td>115.3</td>\n",
       "      <td>24</td>\n",
       "      <td>Q3, 2022</td>\n",
       "      <td>21.5</td>\n",
       "    </tr>\n",
       "  </tbody>\n",
       "</table>\n",
       "<p>61838 rows × 8 columns</p>\n",
       "</div>"
      ],
      "text/plain": [
       "      SKU_Category    SKU  Quantity  Sales_Amount  Operational_Cost  \\\n",
       "0            Skirt  CZUZX       1.0          63.5              44.6   \n",
       "1            Skirt  549KK       1.0          55.9              41.1   \n",
       "2            Skirt  K8EHH       1.0          68.8              52.6   \n",
       "3            Shoes  AHZNS       1.0          82.1              56.7   \n",
       "4            Skirt  9STQJ       1.0          82.5              58.7   \n",
       "...            ...    ...       ...           ...               ...   \n",
       "61858          Hat  FO112       3.0          64.6              16.4   \n",
       "61859      T-shirt  I36F2       1.0          45.0              32.5   \n",
       "61860       Shorts  4X8P4       1.0          51.9              39.2   \n",
       "61861        Skirt  ZVTO4       1.0          45.7              35.9   \n",
       "61862     Crop Top  QM9BP       1.0         136.8             115.3   \n",
       "\n",
       "       Customer_Age   Quarter  Profit  \n",
       "0                51  Q1, 2022    18.9  \n",
       "1                27  Q1, 2022    14.8  \n",
       "2                39  Q1, 2022    16.2  \n",
       "3                39  Q1, 2022    25.4  \n",
       "4                30  Q1, 2022    23.8  \n",
       "...             ...       ...     ...  \n",
       "61858            24  Q3, 2022    48.2  \n",
       "61859            24  Q3, 2022    12.5  \n",
       "61860            24  Q3, 2022    12.7  \n",
       "61861            24  Q3, 2022     9.8  \n",
       "61862            24  Q3, 2022    21.5  \n",
       "\n",
       "[61838 rows x 8 columns]"
      ]
     },
     "execution_count": 16,
     "metadata": {},
     "output_type": "execute_result"
    }
   ],
   "source": [
    "df_revised"
   ]
  },
  {
   "cell_type": "code",
   "execution_count": null,
   "id": "6eff649d",
   "metadata": {},
   "outputs": [],
   "source": []
  },
  {
   "cell_type": "code",
   "execution_count": null,
   "id": "f11aec9c",
   "metadata": {},
   "outputs": [],
   "source": []
  }
 ],
 "metadata": {
  "kernelspec": {
   "display_name": "Python 3 (ipykernel)",
   "language": "python",
   "name": "python3"
  },
  "language_info": {
   "codemirror_mode": {
    "name": "ipython",
    "version": 3
   },
   "file_extension": ".py",
   "mimetype": "text/x-python",
   "name": "python",
   "nbconvert_exporter": "python",
   "pygments_lexer": "ipython3",
   "version": "3.9.13"
  }
 },
 "nbformat": 4,
 "nbformat_minor": 5
}
