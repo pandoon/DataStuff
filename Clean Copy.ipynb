{
 "cells": [
  {
   "cell_type": "code",
   "execution_count": 1,
   "id": "14d676fc",
   "metadata": {},
   "outputs": [],
   "source": [
    "import pandas as pd\n",
    "import numpy as np\n",
    "import matplotlib.pyplot as plt"
   ]
  },
  {
   "cell_type": "code",
   "execution_count": 2,
   "id": "488f542b",
   "metadata": {},
   "outputs": [],
   "source": [
    "df = pd.read_csv(\"B_YTé - Store Dataset 2023.csv\")"
   ]
  },
  {
   "cell_type": "code",
   "execution_count": 3,
   "id": "da84189a",
   "metadata": {},
   "outputs": [],
   "source": [
    "quarter_map = [\"Q1\",\"Q1\",\"Q1\",\"Q2\",\"Q2\",\"Q2\",\"Q3\",\"Q3\",\"Q3\",\"Q4\",\"Q4\",\"Q4\"]\n",
    "#               Jan, Feb, Mar, April....\n",
    "def month_to_quarter(month: int) -> str:\n",
    "    if month <=3:\n",
    "        return 'Q1'\n",
    "    elif month <=6:\n",
    "        return 'Q2'\n",
    "    elif month <=9:\n",
    "        return 'Q3'\n",
    "    else:\n",
    "        return 'Q4'\n",
    "\n",
    "#demographic_list = [\"GenZ\", 'Millenial', 'GenX', 'GenJones']\n",
    "# 11-26, 27-42, 43-58, 59-68\n",
    "def age_to_dg(age: int) -> str:\n",
    "    if age <= 26:\n",
    "        return 'GenZ'\n",
    "    elif age <= 42:\n",
    "        return 'Millenial'\n",
    "    elif age <= 58:\n",
    "        return 'GenX'\n",
    "    elif age <= 68:\n",
    "        return \"GenJones\""
   ]
  },
  {
   "cell_type": "code",
   "execution_count": 4,
   "id": "894fb6b4",
   "metadata": {},
   "outputs": [],
   "source": [
    "df['Date'] = pd.to_datetime(df['Date'], format='%d/%m/%Y', errors='coerce')\n",
    "nan_indices = df.index[df['Date'].isna()]\n",
    "rows_with_NaT = df.iloc[nan_indices]\n",
    "df.drop(rows_with_NaT.index, inplace=True)\n",
    "df = df.drop(columns=['Unnamed: 0', 'Customer_ID', 'Transaction_ID'])"
   ]
  },
  {
   "cell_type": "code",
   "execution_count": 5,
   "id": "0ca31da1",
   "metadata": {},
   "outputs": [],
   "source": [
    "df['Month'] = df['Date'].dt.month\n",
    "df['Quarter'] = df['Month'].apply(month_to_quarter)\n",
    "df['Profit'] = df['Sales_Amount'] - df['Operational_Cost']\n",
    "df['Demographic'] = df['Customer_Age'].apply(age_to_dg)"
   ]
  },
  {
   "cell_type": "code",
   "execution_count": 6,
   "id": "f0193f16",
   "metadata": {},
   "outputs": [],
   "source": [
    "demograph_quantity = df.groupby('Demographic')['Quantity'].sum()\n",
    "demograph_profit = df.groupby('Demographic')['Profit'].sum()\n",
    "quarterly_profit = df.groupby('Quarter')['Profit'].sum()\n",
    "quarterly_quantity = df.groupby('Quarter')['Quantity'].sum()\n",
    "profit_by_category = df.groupby('SKU_Category')['Profit'].sum()"
   ]
  },
  {
   "cell_type": "code",
   "execution_count": 7,
   "id": "e67669a9",
   "metadata": {},
   "outputs": [],
   "source": [
    "df = df[df['Profit'] >= 0]"
   ]
  }
 ],
 "metadata": {
  "kernelspec": {
   "display_name": "Python 3 (ipykernel)",
   "language": "python",
   "name": "python3"
  },
  "language_info": {
   "codemirror_mode": {
    "name": "ipython",
    "version": 3
   },
   "file_extension": ".py",
   "mimetype": "text/x-python",
   "name": "python",
   "nbconvert_exporter": "python",
   "pygments_lexer": "ipython3",
   "version": "3.9.13"
  }
 },
 "nbformat": 4,
 "nbformat_minor": 5
}
